{
 "cells": [
  {
   "cell_type": "markdown",
   "metadata": {},
   "source": [
    "# Data Wrangling\n",
    "\n",
    "## Introduction\n",
    "\n",
    "In this notebook, we inspect our dataset, which itself was extracted from processing the raw data packets downloaded from the source url.\n",
    "\n",
    "After figuring out the columns of interest, we write functions that can be used to run over the entire dataset and clean the data in some standard format so that we may proceed with building our learning models."
   ]
  },
  {
   "cell_type": "markdown",
   "metadata": {},
   "source": [
    "## Raw Data Exploration"
   ]
  },
  {
   "cell_type": "code",
   "execution_count": 7,
   "metadata": {},
   "outputs": [],
   "source": [
    "import pandas as pd\n",
    "PATH_TO_PCAP_TSV = './extracted_pcaps/16-09-23.pcap.tsv'"
   ]
  },
  {
   "cell_type": "code",
   "execution_count": 8,
   "metadata": {},
   "outputs": [
    {
     "name": "stderr",
     "output_type": "stream",
     "text": [
      "/Users/admin/miniconda3/lib/python3.7/site-packages/IPython/core/interactiveshell.py:3063: DtypeWarning: Columns (5,6,8,9,10,15,16,17,18,19,20,21) have mixed types.Specify dtype option on import or set low_memory=False.\n",
      "  interactivity=interactivity, compiler=compiler, result=result)\n"
     ]
    }
   ],
   "source": [
    "# NOTE: For more confidence, multiple TSVs could be read\n",
    "#  instead of a single pcap dump.\n",
    "\n",
    "df = pd.read_csv(PATH_TO_PCAP_TSV, sep='\\t')"
   ]
  },
  {
   "cell_type": "code",
   "execution_count": 9,
   "metadata": {},
   "outputs": [
    {
     "name": "stdout",
     "output_type": "stream",
     "text": [
      "Total number of columns in the dataset  60\n",
      "Total number of rows in the dataset  947072\n"
     ]
    }
   ],
   "source": [
    "print(\"Total number of columns in the dataset \", df.shape[1])\n",
    "print(\"Total number of rows in the dataset \", df.shape[0])"
   ]
  },
  {
   "cell_type": "markdown",
   "metadata": {},
   "source": [
    "## Discussion\n",
    "\n",
    "We expect a lot of the columns in the dataset would have empty (NaN) values, or very few unique values. Since the dataset is so large (~XXGB), we choose to drop certain columns that seem to have very low data entropy. In the following cells this is what we exactly do. We figure out the columns that we would want to consider for building our learning models and vice-versa."
   ]
  },
  {
   "cell_type": "code",
   "execution_count": 10,
   "metadata": {},
   "outputs": [],
   "source": [
    "df_column_summary = df.nunique() # note that Nan counts as one additional unique value"
   ]
  },
  {
   "cell_type": "code",
   "execution_count": 11,
   "metadata": {},
   "outputs": [],
   "source": [
    "low_information_columns = df_column_summary[df_column_summary <= 2].index"
   ]
  },
  {
   "cell_type": "code",
   "execution_count": 12,
   "metadata": {},
   "outputs": [
    {
     "data": {
      "text/plain": [
       "Index(['tcp.flags.ack', 'tcp.flags.push', 'tcp.flags.reset', 'tcp.flags.syn',\n",
       "       'tcp.flags.fin', 'tcp.checksum.status'],\n",
       "      dtype='object')"
      ]
     },
     "execution_count": 12,
     "metadata": {},
     "output_type": "execute_result"
    }
   ],
   "source": [
    "low_information_columns"
   ]
  },
  {
   "cell_type": "code",
   "execution_count": 13,
   "metadata": {},
   "outputs": [
    {
     "name": "stdout",
     "output_type": "stream",
     "text": [
      "Columns worth looking into are \n",
      " Index(['eth.dst', 'eth.dst.oui', 'eth.src', 'eth.src.oui', 'eth.type',\n",
      "       'frame.len', 'frame.number', 'frame.protocols', 'frame.time_delta',\n",
      "       'frame.time_epoch', 'frame.time_relative', 'ip.checksum.status',\n",
      "       'ip.dsfield', 'ip.dsfield.dscp', 'ip.dsfield.ecn', 'ip.dst', 'ip.flags',\n",
      "       'ip.flags.df', 'ip.flags.mf', 'ip.flags.rb', 'ip.frag_offset',\n",
      "       'ip.hdr_len', 'ip.id', 'ip.len', 'ip.proto', 'ip.src', 'ip.ttl',\n",
      "       'ip.version', 'tcp.ack', 'tcp.analysis.ack_rtt',\n",
      "       'tcp.analysis.acks_frame', 'tcp.analysis.bytes_in_flight',\n",
      "       'tcp.analysis.initial_rtt', 'tcp.analysis.push_bytes_sent',\n",
      "       'tcp.dstport', 'tcp.hdr_len', 'tcp.len', 'tcp.nxtseq',\n",
      "       'tcp.reassembled.length', 'tcp.segment', 'tcp.segment.count', 'tcp.seq',\n",
      "       'tcp.srcport', 'tcp.stream', 'tcp.time_delta', 'tcp.time_relative',\n",
      "       'tcp.window_size', 'tcp.window_size_scalefactor',\n",
      "       'tcp.window_size_value', 'udp.dstport', 'udp.length', 'udp.srcport',\n",
      "       'udp.time_delta', 'udp.time_relative'],\n",
      "      dtype='object')\n"
     ]
    }
   ],
   "source": [
    "print('Columns worth looking into are \\n', df.columns.difference(low_information_columns))"
   ]
  },
  {
   "cell_type": "markdown",
   "metadata": {},
   "source": [
    "Now we proceed on to create the list of the columns we are interested in."
   ]
  },
  {
   "cell_type": "code",
   "execution_count": 14,
   "metadata": {},
   "outputs": [],
   "source": [
    "ip_cols_to_consider = ['ip.version', \n",
    "                         'ip.hdr_len', \n",
    "                         'ip.dsfield', \n",
    "                         'ip.dsfield.dscp',\n",
    "                         'ip.dsfield.ecn', \n",
    "                         'ip.len', \n",
    "                         'ip.id',\n",
    "                         'ip.dst', \n",
    "                         'ip.src', \n",
    "                         'ip.flags', \n",
    "                         'ip.flags.rb', \n",
    "                         'ip.flags.df', \n",
    "                         'ip.flags.mf', \n",
    "                         'ip.frag_offset', \n",
    "                         'ip.ttl', \n",
    "                         'ip.proto', \n",
    "                         'ip.checksum.status']\n",
    "\n",
    "tcp_cols_to_consider = ['tcp.srcport', #int\n",
    "                        'tcp.dstport', \n",
    "                        'tcp.stream', \n",
    "                        'tcp.seq', \n",
    "                        'tcp.nxtseq', \n",
    "                        'tcp.ack', \n",
    "                        'tcp.hdr_len', \n",
    "                        #'tcp.flags', \n",
    "                        #'tcp.flags.res', #boolean\n",
    "                        #'tcp.flags.cwr', \n",
    "                        #'tcp.flags.ecn', \n",
    "                        #'tcp.flags.urg', \n",
    "                        'tcp.flags.ack', \n",
    "                        'tcp.flags.push', \n",
    "                        'tcp.flags.reset', \n",
    "                        'tcp.flags.syn', \n",
    "                        'tcp.flags.fin', \n",
    "                        #'tcp.flags.str',#str\n",
    "                        'tcp.window_size_value', #int\n",
    "                        'tcp.window_size', \n",
    "                        'tcp.window_size_scalefactor', \n",
    "                        'tcp.checksum.status', #int \n",
    "                        #'tcp.analysis', \n",
    "                        #'tcp.analysis.flags', \n",
    "                        'tcp.len', \n",
    "                        'tcp.analysis.acks_frame', \n",
    "                        'tcp.analysis.bytes_in_flight', \n",
    "                        'tcp.analysis.push_bytes_sent', \n",
    "                        'tcp.analysis.ack_rtt', \n",
    "                        'tcp.analysis.initial_rtt', \n",
    "                        #'tcp.urgent_pointer', \n",
    "                        'tcp.segment.count', \n",
    "                        'tcp.segment', \n",
    "                        #'tcp.segments', \n",
    "                        'tcp.reassembled.length', \n",
    "                        'tcp.time_relative', \n",
    "                        'tcp.time_delta', \n",
    "                        #'tcp.analysis.keep_alive', \n",
    "                        #'tcp.analysis.keep_alive_ack', \n",
    "                        #'tcp.options.mss', \n",
    "                        #'tcp.options.wscale'\n",
    "                       ]\n",
    "\n",
    "eth_cols_to_consider = ['eth.dst', 'eth.dst.oui', 'eth.src', 'eth.src.oui', 'eth.type']\n",
    "\n",
    "udp_cols_to_consider = ['udp.srcport', 'udp.dstport', 'udp.length', 'udp.time_relative', 'udp.time_delta']\n",
    "\n",
    "frame_cols_to_consider = ['frame.time_epoch', 'frame.time_delta', 'frame.time_relative', \n",
    "                          'frame.number', 'frame.len', 'frame.protocols']\n",
    "\n",
    "cols_to_consider = eth_cols_to_consider + ip_cols_to_consider + tcp_cols_to_consider + \\\n",
    "                    udp_cols_to_consider + frame_cols_to_consider"
   ]
  },
  {
   "cell_type": "code",
   "execution_count": 15,
   "metadata": {},
   "outputs": [
    {
     "name": "stdout",
     "output_type": "stream",
     "text": [
      "Total columns to be in the resulting dataset:  60\n"
     ]
    }
   ],
   "source": [
    "print(\"Total columns to be in the resulting dataset: \", len(cols_to_consider))"
   ]
  },
  {
   "cell_type": "markdown",
   "metadata": {},
   "source": [
    "## Modularizing Data Wrangling\n",
    "\n",
    "In the previous section we brought down our dataset colums to a total of 60 (out of xx) inorder to read only the relevant columns into the memory. In this section we standardize the data types to the appropriate data type to optimize the memory usage."
   ]
  },
  {
   "cell_type": "markdown",
   "metadata": {},
   "source": [
    "### Address/Protocol lookup\n",
    "\n",
    "There are columns such as `ip.src`, `ip.dst`, `frame.protocols`, etc. that are string identifiers. Inorder to reduce memory usage, we maintain an object with a key:int mapping for these values and proceed with standardizing the column datatypes."
   ]
  },
  {
   "cell_type": "code",
   "execution_count": 16,
   "metadata": {},
   "outputs": [],
   "source": [
    "class ValueMapping():\n",
    "    def __init__(self):\n",
    "        self.addresses = ['NaN']\n",
    "    \n",
    "    def value_to_index(self, value):\n",
    "        if value in self.addresses:\n",
    "            return self.addresses.index(value)\n",
    "        else:\n",
    "            self.addresses.append(value)\n",
    "            return len(self.addresses)-1\n",
    "        \n",
    "    def index_to_value(self, index):\n",
    "        assert index < len(self.addresses), \"Index Error: index doesn't exist\"\n",
    "        return self.addresses[index]\n",
    "    \n",
    "valueMappings = ValueMapping()"
   ]
  },
  {
   "cell_type": "code",
   "execution_count": 17,
   "metadata": {},
   "outputs": [],
   "source": [
    "try:\n",
    "    valueMappings\n",
    "except NameError:\n",
    "    print(\"valueMappings is not defined!\")\n",
    "    \n",
    "address_to_int = lambda _: valueMappings.value_to_index(_)\n",
    "\n",
    "address_conversion = lambda col: pd.to_numeric(\n",
    "                                col.fillna(value=0).apply(address_to_int),\n",
    "                                downcast='unsigned')\n",
    "\n",
    "protocol_conversion = lambda col: pd.to_numeric(\n",
    "                                col.fillna(value=0).apply(address_to_int),\n",
    "                                downcast='unsigned')\n",
    "\n",
    "downcast_to_unsigned = lambda col: pd.to_numeric(\n",
    "                                col.fillna(value=0), \n",
    "                                downcast='unsigned')\n",
    "\n",
    "hexstring_to_int = lambda col: pd.to_numeric(\n",
    "                                col.fillna(value=0).apply(\n",
    "                                    lambda _: int(_.split(',')[0], 16) if type(_) == str else int(_)),\n",
    "                                downcast='unsigned')\n",
    "\n",
    "\n",
    "#numbers of the kind floats, str+','+str\n",
    "dirtynums_to_int = lambda col: pd.to_numeric(\n",
    "                                col.fillna(value=0).apply(\n",
    "                                    lambda _: int(_.split(',')[0]) if type(_) == str else int(_)),\n",
    "                                downcast='unsigned')\n"
   ]
  },
  {
   "cell_type": "code",
   "execution_count": 18,
   "metadata": {},
   "outputs": [],
   "source": [
    "field_conversions = [{'col':'ip.src', 'op': address_conversion},\n",
    "                    {'col':'ip.dst', 'op': address_conversion}, \n",
    "                    {'col': 'eth.dst', 'op': address_conversion}, \n",
    "                    {'col': 'eth.src', 'op': address_conversion},\n",
    "                    {'col': 'eth.dst.oui', 'op': downcast_to_unsigned},\n",
    "                    {'col': 'eth.src.oui', 'op': downcast_to_unsigned},\n",
    "                    {'col': 'eth.type', 'op': hexstring_to_int},\n",
    "                    {'col': 'ip.version', 'op': dirtynums_to_int},\n",
    "                    {'col': 'ip.hdr_len', 'op': dirtynums_to_int},\n",
    "                    {'col': 'ip.dsfield', 'op': hexstring_to_int},\n",
    "                    {'col': 'ip.dsfield.dscp', 'op': dirtynums_to_int},\n",
    "                    {'col': 'ip.dsfield.ecn', 'op': dirtynums_to_int},\n",
    "                    {'col': 'ip.len', 'op': dirtynums_to_int},\n",
    "                    {'col': 'ip.id', 'op': hexstring_to_int},\n",
    "                    {'col': 'ip.flags', 'op': hexstring_to_int},\n",
    "                    {'col': 'ip.flags.rb', 'op': dirtynums_to_int},\n",
    "                    {'col': 'ip.flags.df', 'op': hexstring_to_int},\n",
    "                    {'col': 'ip.flags.mf', 'op': hexstring_to_int},\n",
    "                    {'col': 'ip.frag_offset', 'op': hexstring_to_int},\n",
    "                    {'col': 'ip.ttl', 'op': dirtynums_to_int},\n",
    "                    {'col': 'ip.proto', 'op': dirtynums_to_int},\n",
    "                    {'col': 'ip.checksum.status', 'op': dirtynums_to_int},\n",
    "                    {'col': 'tcp.srcport', 'op': dirtynums_to_int},\n",
    "                    {'col': 'tcp.dstport', 'op': dirtynums_to_int},\n",
    "                    {'col': 'tcp.hdr_len', 'op': dirtynums_to_int},\n",
    "                    {'col': 'tcp.flags.ack', 'op': dirtynums_to_int},\n",
    "                    {'col': 'tcp.flags.push', 'op': dirtynums_to_int},\n",
    "                    {'col': 'tcp.flags.reset', 'op': dirtynums_to_int},\n",
    "                    {'col': 'tcp.flags.syn', 'op': dirtynums_to_int},\n",
    "                    {'col': 'tcp.flags.fin', 'op': dirtynums_to_int},\n",
    "                    {'col': 'tcp.segment', 'op': dirtynums_to_int},\n",
    "                    {'col': 'frame.protocols', 'op': protocol_conversion},]"
   ]
  },
  {
   "cell_type": "code",
   "execution_count": 19,
   "metadata": {},
   "outputs": [],
   "source": [
    "\"\"\" These are columns that can be downcasted to ints \"\"\"\n",
    "\n",
    "float_cols = ['tcp.stream',\n",
    "              'tcp.seq',\n",
    "              'tcp.nxtseq',\n",
    "              'tcp.ack',\n",
    "              'tcp.window_size_value',\n",
    "              'tcp.window_size',\n",
    "              'tcp.window_size_scalefactor',\n",
    "              'tcp.checksum.status',\n",
    "              'tcp.len',\n",
    "              'tcp.analysis.acks_frame',\n",
    "              'tcp.analysis.bytes_in_flight',\n",
    "              'tcp.analysis.push_bytes_sent',\n",
    "              'tcp.analysis.ack_rtt',\n",
    "              'tcp.analysis.initial_rtt',\n",
    "              'tcp.segment.count',\n",
    "              'tcp.reassembled.length',\n",
    "              'tcp.time_relative',\n",
    "              'tcp.time_delta',\n",
    "              'udp.srcport',\n",
    "              'udp.dstport',\n",
    "              'udp.length',\n",
    "              'udp.time_relative',\n",
    "              'udp.time_delta',\n",
    "              #'frame.time_epoch',\n",
    "              'frame.time_delta',\n",
    "              'frame.time_relative']"
   ]
  },
  {
   "cell_type": "code",
   "execution_count": 20,
   "metadata": {},
   "outputs": [],
   "source": [
    "def standardize_data_types(df):\n",
    "    \"\"\"\n",
    "    Update the PCAP dataset dataframes with standard data types.\n",
    "    \n",
    "    WARNING: This is an inplace method i.e. calling this function will \n",
    "     overwrite your original dataframe.\n",
    "    \"\"\"\n",
    "    for conversion in field_conversions:\n",
    "        df[conversion['col']] = conversion['op'](df[conversion['col']])\n",
    "\n",
    "    for column in float_cols:\n",
    "        df[column] = pd.to_numeric(df[column].fillna(value=0).astype('int'), \n",
    "                                   downcast='unsigned')\n"
   ]
  },
  {
   "cell_type": "code",
   "execution_count": 22,
   "metadata": {},
   "outputs": [],
   "source": [
    "standardize_data_types(df)"
   ]
  },
  {
   "cell_type": "code",
   "execution_count": 23,
   "metadata": {},
   "outputs": [
    {
     "name": "stdout",
     "output_type": "stream",
     "text": [
      "<class 'pandas.core.frame.DataFrame'>\n",
      "RangeIndex: 947072 entries, 0 to 947071\n",
      "Data columns (total 60 columns):\n",
      " #   Column                        Non-Null Count   Dtype  \n",
      "---  ------                        --------------   -----  \n",
      " 0   eth.dst                       947072 non-null  uint16 \n",
      " 1   eth.dst.oui                   947072 non-null  uint32 \n",
      " 2   eth.src                       947072 non-null  uint16 \n",
      " 3   eth.src.oui                   947072 non-null  uint32 \n",
      " 4   eth.type                      947072 non-null  uint16 \n",
      " 5   ip.version                    947072 non-null  uint8  \n",
      " 6   ip.hdr_len                    947072 non-null  uint8  \n",
      " 7   ip.dsfield                    947072 non-null  uint8  \n",
      " 8   ip.dsfield.dscp               947072 non-null  uint8  \n",
      " 9   ip.dsfield.ecn                947072 non-null  uint8  \n",
      " 10  ip.len                        947072 non-null  uint16 \n",
      " 11  ip.id                         947072 non-null  uint16 \n",
      " 12  ip.dst                        947072 non-null  uint16 \n",
      " 13  ip.src                        947072 non-null  uint16 \n",
      " 14  ip.flags                      947072 non-null  uint16 \n",
      " 15  ip.flags.rb                   947072 non-null  uint8  \n",
      " 16  ip.flags.df                   947072 non-null  uint8  \n",
      " 17  ip.flags.mf                   947072 non-null  uint8  \n",
      " 18  ip.frag_offset                947072 non-null  uint16 \n",
      " 19  ip.ttl                        947072 non-null  uint8  \n",
      " 20  ip.proto                      947072 non-null  uint8  \n",
      " 21  ip.checksum.status            947072 non-null  uint8  \n",
      " 22  tcp.srcport                   947072 non-null  uint16 \n",
      " 23  tcp.dstport                   947072 non-null  uint16 \n",
      " 24  tcp.stream                    947072 non-null  uint16 \n",
      " 25  tcp.seq                       947072 non-null  uint32 \n",
      " 26  tcp.nxtseq                    947072 non-null  uint32 \n",
      " 27  tcp.ack                       947072 non-null  uint32 \n",
      " 28  tcp.hdr_len                   947072 non-null  uint8  \n",
      " 29  tcp.flags.ack                 947072 non-null  uint8  \n",
      " 30  tcp.flags.push                947072 non-null  uint8  \n",
      " 31  tcp.flags.reset               947072 non-null  uint8  \n",
      " 32  tcp.flags.syn                 947072 non-null  uint8  \n",
      " 33  tcp.flags.fin                 947072 non-null  uint8  \n",
      " 34  tcp.window_size_value         947072 non-null  uint16 \n",
      " 35  tcp.window_size               947072 non-null  uint32 \n",
      " 36  tcp.window_size_scalefactor   947072 non-null  int64  \n",
      " 37  tcp.checksum.status           947072 non-null  uint8  \n",
      " 38  tcp.len                       947072 non-null  uint16 \n",
      " 39  tcp.analysis.acks_frame       947072 non-null  uint32 \n",
      " 40  tcp.analysis.bytes_in_flight  947072 non-null  uint32 \n",
      " 41  tcp.analysis.push_bytes_sent  947072 non-null  uint32 \n",
      " 42  tcp.analysis.ack_rtt          947072 non-null  uint8  \n",
      " 43  tcp.analysis.initial_rtt      947072 non-null  uint8  \n",
      " 44  tcp.segment.count             947072 non-null  uint16 \n",
      " 45  tcp.segment                   947072 non-null  uint32 \n",
      " 46  tcp.reassembled.length        947072 non-null  uint32 \n",
      " 47  tcp.time_relative             947072 non-null  uint32 \n",
      " 48  tcp.time_delta                947072 non-null  uint16 \n",
      " 49  udp.srcport                   947072 non-null  uint16 \n",
      " 50  udp.dstport                   947072 non-null  uint16 \n",
      " 51  udp.length                    947072 non-null  uint16 \n",
      " 52  udp.time_relative             947072 non-null  uint32 \n",
      " 53  udp.time_delta                947072 non-null  uint32 \n",
      " 54  frame.time_epoch              947072 non-null  float64\n",
      " 55  frame.time_delta              947072 non-null  uint8  \n",
      " 56  frame.time_relative           947072 non-null  uint32 \n",
      " 57  frame.number                  947072 non-null  int64  \n",
      " 58  frame.len                     947072 non-null  int64  \n",
      " 59  frame.protocols               947072 non-null  uint16 \n",
      "dtypes: float64(1), int64(3), uint16(20), uint32(15), uint8(21)\n",
      "memory usage: 138.2 MB\n"
     ]
    }
   ],
   "source": [
    "df.info()"
   ]
  },
  {
   "cell_type": "code",
   "execution_count": 29,
   "metadata": {},
   "outputs": [],
   "source": [
    "# Finally we write the cleaned data set and read it when \n",
    "#  building our machine learning models.\n",
    "df.to_feather(\n",
    "    PATH_TO_PCAP_TSV.replace('extracted_pcaps', \n",
    "                             'feathers').replace('tsv', \n",
    "                                                 'feather'))"
   ]
  }
 ],
 "metadata": {
  "kernelspec": {
   "display_name": "Python 3",
   "language": "python",
   "name": "python3"
  },
  "language_info": {
   "codemirror_mode": {
    "name": "ipython",
    "version": 3
   },
   "file_extension": ".py",
   "mimetype": "text/x-python",
   "name": "python",
   "nbconvert_exporter": "python",
   "pygments_lexer": "ipython3",
   "version": "3.7.6"
  },
  "toc": {
   "base_numbering": 1,
   "nav_menu": {},
   "number_sections": true,
   "sideBar": true,
   "skip_h1_title": false,
   "title_cell": "Table of Contents",
   "title_sidebar": "Contents",
   "toc_cell": false,
   "toc_position": {},
   "toc_section_display": true,
   "toc_window_display": false
  }
 },
 "nbformat": 4,
 "nbformat_minor": 4
}
